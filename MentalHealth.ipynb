{
  "nbformat": 4,
  "nbformat_minor": 0,
  "metadata": {
    "colab": {
      "provenance": [],
      "authorship_tag": "ABX9TyMiJg/FcvX65Ubj5RW+2nhb",
      "include_colab_link": true
    },
    "kernelspec": {
      "name": "python3",
      "display_name": "Python 3"
    },
    "language_info": {
      "name": "python"
    }
  },
  "cells": [
    {
      "cell_type": "markdown",
      "metadata": {
        "id": "view-in-github",
        "colab_type": "text"
      },
      "source": [
        "<a href=\"https://colab.research.google.com/github/vaibhav-prasad707/SentimentAnalysis_MentalHealth/blob/main/MentalHealth.ipynb\" target=\"_parent\"><img src=\"https://colab.research.google.com/assets/colab-badge.svg\" alt=\"Open In Colab\"/></a>"
      ]
    },
    {
      "cell_type": "code",
      "source": [
        "pip install git+https://github.com/tweepy/tweepy.git"
      ],
      "metadata": {
        "colab": {
          "base_uri": "https://localhost:8080/"
        },
        "id": "Dw4u_bHLatGP",
        "outputId": "553745e3-41f3-4118-8986-ed81517a43af"
      },
      "execution_count": 1,
      "outputs": [
        {
          "output_type": "stream",
          "name": "stdout",
          "text": [
            "Collecting git+https://github.com/tweepy/tweepy.git\n",
            "  Cloning https://github.com/tweepy/tweepy.git to /tmp/pip-req-build-jiiawzvl\n",
            "  Running command git clone --filter=blob:none --quiet https://github.com/tweepy/tweepy.git /tmp/pip-req-build-jiiawzvl\n",
            "  Resolved https://github.com/tweepy/tweepy.git to commit 703f08cff6c1e9dac59e800c784fdb61c0220fe2\n",
            "  Installing build dependencies ... \u001b[?25l\u001b[?25hdone\n",
            "  Getting requirements to build wheel ... \u001b[?25l\u001b[?25hdone\n",
            "  Preparing metadata (pyproject.toml) ... \u001b[?25l\u001b[?25hdone\n",
            "Requirement already satisfied: oauthlib<4,>=3.2.0 in /usr/local/lib/python3.10/dist-packages (from tweepy==4.15.0) (3.2.2)\n",
            "Requirement already satisfied: requests<3,>=2.27.0 in /usr/local/lib/python3.10/dist-packages (from tweepy==4.15.0) (2.32.3)\n",
            "Requirement already satisfied: requests-oauthlib<3,>=1.2.0 in /usr/local/lib/python3.10/dist-packages (from tweepy==4.15.0) (1.3.1)\n",
            "Requirement already satisfied: charset-normalizer<4,>=2 in /usr/local/lib/python3.10/dist-packages (from requests<3,>=2.27.0->tweepy==4.15.0) (3.4.0)\n",
            "Requirement already satisfied: idna<4,>=2.5 in /usr/local/lib/python3.10/dist-packages (from requests<3,>=2.27.0->tweepy==4.15.0) (3.10)\n",
            "Requirement already satisfied: urllib3<3,>=1.21.1 in /usr/local/lib/python3.10/dist-packages (from requests<3,>=2.27.0->tweepy==4.15.0) (2.2.3)\n",
            "Requirement already satisfied: certifi>=2017.4.17 in /usr/local/lib/python3.10/dist-packages (from requests<3,>=2.27.0->tweepy==4.15.0) (2024.12.14)\n",
            "Building wheels for collected packages: tweepy\n",
            "  Building wheel for tweepy (pyproject.toml) ... \u001b[?25l\u001b[?25hdone\n",
            "  Created wheel for tweepy: filename=tweepy-4.15.0-py3-none-any.whl size=98745 sha256=54a43dcac3ea83568d3bcac23e49fb1933c18e78b34b06caeba16c0b3f50dc9f\n",
            "  Stored in directory: /tmp/pip-ephem-wheel-cache-0nbgag64/wheels/dc/75/73/ac2b7c1ac66d801a0b03c7707a2fc16e8689f792b585994c6f\n",
            "Successfully built tweepy\n",
            "Installing collected packages: tweepy\n",
            "  Attempting uninstall: tweepy\n",
            "    Found existing installation: tweepy 4.14.0\n",
            "    Uninstalling tweepy-4.14.0:\n",
            "      Successfully uninstalled tweepy-4.14.0\n",
            "Successfully installed tweepy-4.15.0\n"
          ]
        }
      ]
    },
    {
      "cell_type": "code",
      "source": [
        "import tweepy\n",
        "\n",
        "# Authenticate\n",
        "client = tweepy.Client(bearer_token=\"AAAAAAAAAAAAAAAAAAAAAAaiyAEAAAAA0yLX0ul3VyJQ54bGBSuL5cgTuBA%3D8DvZozE6vWnpwykc6vPU8j1bhqZzlvOlM1SYBGJcLcXyHVR2Da\")\n",
        "\n",
        "# Fetch tweets\n",
        "query = \"mental health -is:retweet lang:en\"\n",
        "response = client.search_recent_tweets(query=query, max_results=100, tweet_fields=['created_at', 'text'])\n",
        "\n",
        "tweets = [tweet.text for tweet in response.data]\n"
      ],
      "metadata": {
        "id": "EB5bp3iccyJ7"
      },
      "execution_count": 3,
      "outputs": []
    },
    {
      "cell_type": "code",
      "source": [
        "import re\n",
        "\n",
        "def preprocess_tweet(tweet):\n",
        "    tweet = re.sub(r'http\\S+', '', tweet)  # Remove URLs\n",
        "    tweet = re.sub(r'@\\w+', '', tweet)    # Remove mentions\n",
        "    tweet = re.sub(r'#\\w+', '', tweet)    # Remove hashtags\n",
        "    tweet = re.sub(r'\\W', ' ', tweet)     # Remove special characters\n",
        "    tweet = tweet.lower()                 # Convert to lowercase\n",
        "    return tweet\n",
        "\n",
        "cleaned_tweets = [preprocess_tweet(tweet) for tweet in tweets]\n"
      ],
      "metadata": {
        "id": "Cr1XsHHKc9Th"
      },
      "execution_count": 4,
      "outputs": []
    },
    {
      "cell_type": "code",
      "source": [
        "from textblob import TextBlob\n",
        "\n",
        "def analyze_sentiment(tweet):\n",
        "    analysis = TextBlob(tweet)\n",
        "    return 'positive' if analysis.sentiment.polarity > 0 else 'negative' if analysis.sentiment.polarity < 0 else 'neutral'\n",
        "\n",
        "sentiments = [analyze_sentiment(tweet) for tweet in cleaned_tweets]\n"
      ],
      "metadata": {
        "id": "8TzK1sEPc_AV"
      },
      "execution_count": 5,
      "outputs": []
    },
    {
      "cell_type": "code",
      "source": [
        "import pandas as pd\n",
        "import seaborn as sns\n",
        "import matplotlib.pyplot as plt\n",
        "\n",
        "df = pd.DataFrame({'Tweet': cleaned_tweets, 'Sentiment': sentiments})\n",
        "\n",
        "# Plot sentiment distribution\n",
        "sns.countplot(x='Sentiment', data=df, palette='viridis')\n",
        "plt.title('Sentiment Analysis on Mental Health Tweets')\n",
        "plt.show()\n"
      ],
      "metadata": {
        "colab": {
          "base_uri": "https://localhost:8080/",
          "height": 561
        },
        "id": "QYh_Dr4xdKxd",
        "outputId": "e5e6c4b8-4b8c-4303-c936-48f7b0b0e789"
      },
      "execution_count": 6,
      "outputs": [
        {
          "output_type": "stream",
          "name": "stderr",
          "text": [
            "<ipython-input-6-613988b0b42e>:8: FutureWarning: \n",
            "\n",
            "Passing `palette` without assigning `hue` is deprecated and will be removed in v0.14.0. Assign the `x` variable to `hue` and set `legend=False` for the same effect.\n",
            "\n",
            "  sns.countplot(x='Sentiment', data=df, palette='viridis')\n"
          ]
        },
        {
          "output_type": "display_data",
          "data": {
            "text/plain": [
              "<Figure size 640x480 with 1 Axes>"
            ],
            "image/png": "[encoded data removed]"
          },
          "metadata": {}
        }
      ]
    }
  ]
}